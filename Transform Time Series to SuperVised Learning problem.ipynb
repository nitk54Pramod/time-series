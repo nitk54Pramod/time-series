{
 "cells": [
  {
   "cell_type": "code",
   "execution_count": 1,
   "metadata": {},
   "outputs": [],
   "source": [
    "import pandas as pd\n",
    "import numpy as np\n",
    "import os"
   ]
  },
  {
   "cell_type": "markdown",
   "metadata": {},
   "source": [
    "##### Supervised learning algorithm ==> y = f(x)"
   ]
  },
  {
   "cell_type": "markdown",
   "metadata": {},
   "source": [
    "### Sliding Window \n"
   ]
  },
  {
   "cell_type": "markdown",
   "metadata": {},
   "source": [
    "Given a sequence of numbers for a time series dataset, we can restructure the data to look like a supervised learning problem. We can do this by using previous time steps as input variables and use the next time step as the output variable"
   ]
  },
  {
   "cell_type": "markdown",
   "metadata": {},
   "source": [
    "    time,   measure\n",
    "    1,      100\n",
    "    2,      110\n",
    "    3,      108\n",
    "    4,      115\n",
    "    5,      120"
   ]
  },
  {
   "cell_type": "markdown",
   "metadata": {},
   "source": [
    "We can restructure this time series dataset as a supervised learning problem by using the value at the previous time step to predict the value at the next time step"
   ]
  },
  {
   "cell_type": "markdown",
   "metadata": {},
   "source": [
    "<table>\n",
    "    <tr>\n",
    "    <th>X</th>\n",
    "    <th>y</th>\n",
    "    </tr>\n",
    "     <tr>\n",
    "    <td>?</td>\n",
    "    <td>100</td>\n",
    "  </tr>\n",
    "    <tr>\n",
    "    <td>100</td>\n",
    "    <td>110</td>\n",
    "  </tr>\n",
    "    <tr>\n",
    "    <td>110</td>\n",
    "    <td>108</td>\n",
    "  </tr>\n",
    "    <tr>\n",
    "    <td>108</td>\n",
    "    <td>115</td>\n",
    "  </tr>\n",
    "    <tr>\n",
    "    <td>115</td>\n",
    "    <td>120</td>\n",
    "  </tr>\n",
    "     <tr>\n",
    "    <td>120</td>\n",
    "    <td>?</td>\n",
    "  </tr>\n",
    "</table>"
   ]
  },
  {
   "cell_type": "markdown",
   "metadata": {},
   "source": [
    "1 - We can see that the previous time step is the input (X) and the next time step is the output (y) in our supervised learning problem.\n",
    "\n",
    "2 - We can see that the order between the observations is preserved, and must continue to be preserved when using this dataset to train a supervised model.\n",
    "\n",
    "3 - We can see that we have no previous value that we can use to predict the first value in\n",
    "the sequence. We will delete this row as we cannot use it.\n",
    "\n",
    "4 - We can also see that we do not have a known next value to predict for the last value in the sequence. We may want to delete this value while training our supervised model also."
   ]
  },
  {
   "cell_type": "markdown",
   "metadata": {},
   "source": [
    "#### The use of prior time steps to predict the next time step is called the sliding window method"
   ]
  },
  {
   "cell_type": "markdown",
   "metadata": {},
   "source": [
    "􏰀 We can see how this can work to turn a time series into either a regression or a classification supervised learning problem for real-valued or labeled time series values.\n",
    "<br>\n",
    "􏰀 We can see how once a time series dataset is prepared this way that any of the standard linear and nonlinear machine learning algorithms may be applied, as long as the order of the rows is preserved.\n",
    "<br>\n",
    "􏰀 We can see how the width of the sliding window can be increased to include more previous time steps.\n",
    "<br>\n",
    "􏰀 We can see how the sliding window approach can be used on a time series that has more than one value, or so-called multivariate time series."
   ]
  },
  {
   "cell_type": "markdown",
   "metadata": {},
   "source": [
    "## Sliding Window With Multiple Variates"
   ]
  },
  {
   "cell_type": "markdown",
   "metadata": {},
   "source": [
    "􏰀 <b>Univariate Time Series:</b> These are datasets where only a single variable is observed at each time, such as temperature each hour. The example in the previous section is a univariate time series dataset.\n",
    "<br>\n",
    "􏰀 <b>Multivariate Time Series:</b> These are datasets where two or more variables are observed at each time."
   ]
  },
  {
   "cell_type": "markdown",
   "metadata": {},
   "source": [
    "    time, measure1, measure2 \n",
    "    1,    0.2,        88\n",
    "    2,    0.5,        89\n",
    "    3,    0.7,        87\n",
    "    4,    0.4,        88 \n",
    "    5,    1.0,        90"
   ]
  },
  {
   "cell_type": "markdown",
   "metadata": {},
   "source": [
    "Lets Assume that we are only concerned with predicting <b>measure2</b>."
   ]
  },
  {
   "cell_type": "markdown",
   "metadata": {},
   "source": [
    "We can re-frame this time series dataset as a supervised learning problem with a window width of one."
   ]
  },
  {
   "cell_type": "markdown",
   "metadata": {},
   "source": [
    "    X1,    X2,    X3,    y\n",
    "    ?,     ?,    0.2,    88, \n",
    "    0.2,  88,    0.5,    89\n",
    "    0.5,  89,    0.7,    87,\n",
    "    0.7,  87,    0.4,    88\n",
    "    0.4,  88,    1.0,    90,\n",
    "    1.0,  90      ?,     ?"
   ]
  },
  {
   "cell_type": "markdown",
   "metadata": {},
   "source": [
    "### Sliding Window With Multiple Steps"
   ]
  },
  {
   "cell_type": "markdown",
   "metadata": {},
   "source": [
    "<h4>One-step Forecast:</h4> This is where the next time step (t+1) is predicted.\n",
    "    <br>\n",
    "<h4>Multi-step Forecast:</h4> This is where two or more future time steps are to be predicted."
   ]
  },
  {
   "cell_type": "markdown",
   "metadata": {},
   "source": [
    "###  multi-step forecast using the sliding window method"
   ]
  },
  {
   "cell_type": "markdown",
   "metadata": {},
   "source": [
    "time, measure<br>\n",
    "1, 100<br>\n",
    "2, 110<br>\n",
    "3, 108<Br>\n",
    "4, 115<br>\n",
    "5, 120<br>"
   ]
  },
  {
   "cell_type": "markdown",
   "metadata": {},
   "source": [
    "after using <b>two-step forecasting dataset</b>"
   ]
  },
  {
   "cell_type": "markdown",
   "metadata": {},
   "source": [
    "    X1,   y1,    y2 \n",
    "    ? ,  100,   110 \n",
    "    100, 110,   108 \n",
    "    110, 108,   115 \n",
    "    108, 115,   120 \n",
    "    115, 120,    ? \n",
    "    120,  ?,     ?"
   ]
  },
  {
   "cell_type": "code",
   "execution_count": null,
   "metadata": {},
   "outputs": [],
   "source": []
  }
 ],
 "metadata": {
  "kernelspec": {
   "display_name": "Python 3",
   "language": "python",
   "name": "python3"
  },
  "language_info": {
   "codemirror_mode": {
    "name": "ipython",
    "version": 3
   },
   "file_extension": ".py",
   "mimetype": "text/x-python",
   "name": "python",
   "nbconvert_exporter": "python",
   "pygments_lexer": "ipython3",
   "version": "3.7.6"
  }
 },
 "nbformat": 4,
 "nbformat_minor": 4
}
