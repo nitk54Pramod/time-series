{
 "cells": [
  {
   "cell_type": "markdown",
   "metadata": {},
   "source": [
    "### Transforming a univariate timeseries into supervised learning problem"
   ]
  },
  {
   "cell_type": "code",
   "execution_count": 1,
   "metadata": {},
   "outputs": [],
   "source": [
    "import numpy as np\n"
   ]
  },
  {
   "cell_type": "code",
   "execution_count": 8,
   "metadata": {},
   "outputs": [],
   "source": [
    "def split_sequence(sequence, n_steps): \n",
    "    X, y = list(), list()\n",
    "    for i in range(len(sequence)):\n",
    "        # find the end of this pattern\n",
    "        end_ix = i + n_steps\n",
    "        # check if we are beyond the sequence\n",
    "        if end_ix > len(sequence)-1: \n",
    "            break\n",
    "        # gather input and output parts of the pattern\n",
    "        seq_x, seq_y = sequence[i:end_ix], sequence[end_ix] \n",
    "        X.append(seq_x)\n",
    "        y.append(seq_y)\n",
    "    return np.array(X), np.array(y)\n",
    "\n"
   ]
  },
  {
   "cell_type": "code",
   "execution_count": 11,
   "metadata": {},
   "outputs": [
    {
     "name": "stdout",
     "output_type": "stream",
     "text": [
      "(10,)\n",
      "(7, 3) (7,)\n",
      "univariate series to supervised learning dataset\n",
      "[1 2 3] 4\n",
      "[2 3 4] 5\n",
      "[3 4 5] 6\n",
      "[4 5 6] 7\n",
      "[5 6 7] 8\n",
      "[6 7 8] 9\n",
      "[7 8 9] 10\n"
     ]
    }
   ],
   "source": [
    "# define univariate time series\n",
    "series = np.array([1, 2, 3, 4, 5, 6, 7, 8, 9, 10]) \n",
    "print(series.shape)\n",
    "# transform to a supervised learning problem\n",
    "X, y = split_sequence(series, 3)\n",
    "print(X.shape, y.shape) # show each sample\n",
    "print(\"univariate series to supervised learning dataset\")\n",
    "for i in range(len(X)):\n",
    "    print(X[i], y[i])"
   ]
  },
  {
   "cell_type": "markdown",
   "metadata": {},
   "source": [
    "## Preparing data for CNN and LSTM "
   ]
  },
  {
   "cell_type": "markdown",
   "metadata": {},
   "source": [
    "The input to every CNN and LSTM layer must be threee dimensional. the 3 dimensions of this input are:\n",
    "<ul>\n",
    "    <li> <b>Samples :</b> One sequence is one sample. A batch is comprised of one or more samples\n",
    "    </li>\n",
    "    <li><b>Time Steps :</b> One time step is one point of observation in the sample. One sample is\n",
    "comprised of multiple time steps\n",
    "    </li>\n",
    "    <li><b>Features :</b> One feature is one observation at a time step. One time step is comprised of one or more features.</li>\n",
    "    </ul>"
   ]
  },
  {
   "cell_type": "code",
   "execution_count": 1,
   "metadata": {},
   "outputs": [
    {
     "name": "stdout",
     "output_type": "stream",
     "text": [
      "(10,)\n",
      "(7, 3) (7,)\n",
      "(7, 3)\n"
     ]
    }
   ],
   "source": [
    "# transform univariate 2d to 3d\n",
    "from numpy import array\n",
    "# split a univariate sequence into samples\n",
    "def split_sequence(sequence, n_steps): \n",
    "    X, y = list(), list()\n",
    "    for i in range(len(sequence)):\n",
    "    # find the end of this pattern\n",
    "        end_ix = i + n_steps\n",
    "    # check if we are beyond the sequence\n",
    "        if end_ix > len(sequence)-1: \n",
    "            break\n",
    "    # gather input and output parts of the pattern\n",
    "        seq_x, seq_y = sequence[i:end_ix], sequence[end_ix] \n",
    "        X.append(seq_x)\n",
    "        y.append(seq_y)\n",
    "    return array(X), array(y)\n",
    "# define univariate time series\n",
    "series = array([1, 2, 3, 4, 5, 6, 7, 8, 9, 10]) \n",
    "print(series.shape)\n",
    "# transform to a supervised learning problem\n",
    "X, y = split_sequence(series, 3)\n",
    "print(X.shape, y.shape)\n",
    "# transform input from [samples, features] to [samples, timesteps, features] X = X.reshape((X.shape[0], X.shape[1], 1))\n",
    "print(X.shape)"
   ]
  },
  {
   "cell_type": "code",
   "execution_count": 3,
   "metadata": {},
   "outputs": [
    {
     "data": {
      "text/plain": [
       "(array([[1, 2, 3],\n",
       "        [2, 3, 4],\n",
       "        [3, 4, 5],\n",
       "        [4, 5, 6],\n",
       "        [5, 6, 7],\n",
       "        [6, 7, 8],\n",
       "        [7, 8, 9]]),\n",
       " array([ 4,  5,  6,  7,  8,  9, 10]))"
      ]
     },
     "execution_count": 3,
     "metadata": {},
     "output_type": "execute_result"
    }
   ],
   "source": [
    "X, y"
   ]
  },
  {
   "cell_type": "markdown",
   "metadata": {},
   "source": [
    "<i>Suppose you are loading a dataset with 2 columns and 5000 rows. first column is time and second column is sales. now lets setup the data for the an LSTM ?</i>\n",
    "<br>\n",
    "There are few problems-->\n",
    "<ul>\n",
    "    <li><b>Data Shape :</b> LSTMs expect 3D input, and it can be challenging to get your head around this the first time.</li>\n",
    "    <li><b>Sequence Length :</b> LSTMs don’t like sequences of more than 200-400 time steps, so the data will need to be split into subsamples.\n",
    "    </li>\n",
    "    </ul>\n",
    "\n",
    "To solve this problem, we have to broken down this into 4 steps.\n",
    "1. Load the Data\n",
    "2. Drop the Time Column\n",
    "3. Split into sequences\n",
    "4. Reshape Subsequences\n",
    "\n"
   ]
  },
  {
   "cell_type": "markdown",
   "metadata": {},
   "source": [
    "### 1. Load the Data\n",
    "        -- here i am creating a dummy dataset\n"
   ]
  },
  {
   "cell_type": "code",
   "execution_count": 5,
   "metadata": {},
   "outputs": [
    {
     "name": "stdout",
     "output_type": "stream",
     "text": [
      "[[ 1 10]\n",
      " [ 2 20]\n",
      " [ 3 30]\n",
      " [ 4 40]\n",
      " [ 5 50]]\n",
      "(5000, 2)\n"
     ]
    }
   ],
   "source": [
    "from numpy import array\n",
    "# define the dataset\n",
    "data = list()\n",
    "n = 5000\n",
    "for i in range(n):\n",
    "    data.append([i+1, (i+1)*10]) \n",
    "data = array(data) \n",
    "print(data[:5, :]) \n",
    "print(data.shape)\n"
   ]
  },
  {
   "cell_type": "markdown",
   "metadata": {},
   "source": [
    "## 2. Drop the Time Column"
   ]
  },
  {
   "cell_type": "code",
   "execution_count": 6,
   "metadata": {},
   "outputs": [
    {
     "name": "stdout",
     "output_type": "stream",
     "text": [
      "(5000,)\n"
     ]
    }
   ],
   "source": [
    "from numpy import array\n",
    "# define the dataset\n",
    "data = list()\n",
    "n = 5000\n",
    "for i in range(n):\n",
    "    data.append([i+1, (i+1)*10]) \n",
    "data = array(data)\n",
    "# drop time\n",
    "data = data[:, 1] \n",
    "print(data.shape)"
   ]
  },
  {
   "cell_type": "markdown",
   "metadata": {},
   "source": [
    "## 3. Split into Samples\n"
   ]
  },
  {
   "cell_type": "code",
   "execution_count": 8,
   "metadata": {},
   "outputs": [
    {
     "name": "stdout",
     "output_type": "stream",
     "text": [
      "25\n"
     ]
    }
   ],
   "source": [
    "\n",
    "from numpy import array\n",
    "# define the dataset\n",
    "data = list()\n",
    "n = 5000\n",
    "for i in range(n):\n",
    "    data.append([i+1, (i+1)*10])\n",
    "data = array(data)\n",
    "# drop time\n",
    "data = data[:, 1]\n",
    "# split into samples (e.g. 5000/200 = 25) \n",
    "samples = list()\n",
    "length = 200\n",
    "# step over the 5,000 in jumps of 200\n",
    "for i in range(0,n,length):\n",
    "  # grab from i to i + 200\n",
    "    sample = data[i:i+length]\n",
    "    samples.append(sample) \n",
    "print(len(samples))"
   ]
  },
  {
   "cell_type": "markdown",
   "metadata": {},
   "source": [
    "## 4. Reshape Subsequences"
   ]
  },
  {
   "cell_type": "code",
   "execution_count": 10,
   "metadata": {},
   "outputs": [
    {
     "name": "stdout",
     "output_type": "stream",
     "text": [
      "(25, 200)\n"
     ]
    }
   ],
   "source": [
    "\n",
    "from numpy import array\n",
    "# define the dataset\n",
    "data = list()\n",
    "n = 5000\n",
    "for i in range(n):\n",
    "    data.append([i+1, (i+1)*10]) \n",
    "data = array(data)\n",
    "data = data[:, 1]\n",
    "# split into samples (e.g. 5000/200 = 25)\n",
    "samples = list()\n",
    "length = 200\n",
    "# step over the 5,000 in jumps of 200\n",
    "for i in range(0,n,length):\n",
    "  # grab from i to i + 200\n",
    "    sample = data[i:i+length]\n",
    "    samples.append(sample)\n",
    "# convert list of arrays into 2d array\n",
    "data = array(samples) \n",
    "print(data.shape)"
   ]
  },
  {
   "cell_type": "markdown",
   "metadata": {},
   "source": [
    "#### Now, let's use the another Reshape function to bring the data into 3-D form"
   ]
  },
  {
   "cell_type": "code",
   "execution_count": 11,
   "metadata": {},
   "outputs": [
    {
     "name": "stdout",
     "output_type": "stream",
     "text": [
      "(25, 200, 1)\n"
     ]
    }
   ],
   "source": [
    "# example of creating a 3d array of subsequences\n",
    "from numpy import array\n",
    "# define the dataset\n",
    "data = list()\n",
    "n = 5000\n",
    "for i in range(n):\n",
    "    data.append([i+1, (i+1)*10])\n",
    "data = array(data)\n",
    "# drop time\n",
    "data = data[:, 1]\n",
    "# split into samples (e.g. 5000/200 = 25) \n",
    "samples = list()\n",
    "length = 200\n",
    "# step over the 5,000 in jumps of 200\n",
    "for i in range(0,n,length):\n",
    "  # grab from i to i + 200\n",
    "    sample = data[i:i+length]\n",
    "    samples.append(sample)\n",
    "# convert list of arrays into 2d array\n",
    "data = array(samples)\n",
    "# reshape into [samples, timesteps, features]\n",
    "data = data.reshape((len(samples), length, 1)) \n",
    "print(data.shape)"
   ]
  },
  {
   "cell_type": "code",
   "execution_count": 13,
   "metadata": {},
   "outputs": [
    {
     "data": {
      "text/plain": [
       "array([[  10],\n",
       "       [  20],\n",
       "       [  30],\n",
       "       [  40],\n",
       "       [  50],\n",
       "       [  60],\n",
       "       [  70],\n",
       "       [  80],\n",
       "       [  90],\n",
       "       [ 100],\n",
       "       [ 110],\n",
       "       [ 120],\n",
       "       [ 130],\n",
       "       [ 140],\n",
       "       [ 150],\n",
       "       [ 160],\n",
       "       [ 170],\n",
       "       [ 180],\n",
       "       [ 190],\n",
       "       [ 200],\n",
       "       [ 210],\n",
       "       [ 220],\n",
       "       [ 230],\n",
       "       [ 240],\n",
       "       [ 250],\n",
       "       [ 260],\n",
       "       [ 270],\n",
       "       [ 280],\n",
       "       [ 290],\n",
       "       [ 300],\n",
       "       [ 310],\n",
       "       [ 320],\n",
       "       [ 330],\n",
       "       [ 340],\n",
       "       [ 350],\n",
       "       [ 360],\n",
       "       [ 370],\n",
       "       [ 380],\n",
       "       [ 390],\n",
       "       [ 400],\n",
       "       [ 410],\n",
       "       [ 420],\n",
       "       [ 430],\n",
       "       [ 440],\n",
       "       [ 450],\n",
       "       [ 460],\n",
       "       [ 470],\n",
       "       [ 480],\n",
       "       [ 490],\n",
       "       [ 500],\n",
       "       [ 510],\n",
       "       [ 520],\n",
       "       [ 530],\n",
       "       [ 540],\n",
       "       [ 550],\n",
       "       [ 560],\n",
       "       [ 570],\n",
       "       [ 580],\n",
       "       [ 590],\n",
       "       [ 600],\n",
       "       [ 610],\n",
       "       [ 620],\n",
       "       [ 630],\n",
       "       [ 640],\n",
       "       [ 650],\n",
       "       [ 660],\n",
       "       [ 670],\n",
       "       [ 680],\n",
       "       [ 690],\n",
       "       [ 700],\n",
       "       [ 710],\n",
       "       [ 720],\n",
       "       [ 730],\n",
       "       [ 740],\n",
       "       [ 750],\n",
       "       [ 760],\n",
       "       [ 770],\n",
       "       [ 780],\n",
       "       [ 790],\n",
       "       [ 800],\n",
       "       [ 810],\n",
       "       [ 820],\n",
       "       [ 830],\n",
       "       [ 840],\n",
       "       [ 850],\n",
       "       [ 860],\n",
       "       [ 870],\n",
       "       [ 880],\n",
       "       [ 890],\n",
       "       [ 900],\n",
       "       [ 910],\n",
       "       [ 920],\n",
       "       [ 930],\n",
       "       [ 940],\n",
       "       [ 950],\n",
       "       [ 960],\n",
       "       [ 970],\n",
       "       [ 980],\n",
       "       [ 990],\n",
       "       [1000],\n",
       "       [1010],\n",
       "       [1020],\n",
       "       [1030],\n",
       "       [1040],\n",
       "       [1050],\n",
       "       [1060],\n",
       "       [1070],\n",
       "       [1080],\n",
       "       [1090],\n",
       "       [1100],\n",
       "       [1110],\n",
       "       [1120],\n",
       "       [1130],\n",
       "       [1140],\n",
       "       [1150],\n",
       "       [1160],\n",
       "       [1170],\n",
       "       [1180],\n",
       "       [1190],\n",
       "       [1200],\n",
       "       [1210],\n",
       "       [1220],\n",
       "       [1230],\n",
       "       [1240],\n",
       "       [1250],\n",
       "       [1260],\n",
       "       [1270],\n",
       "       [1280],\n",
       "       [1290],\n",
       "       [1300],\n",
       "       [1310],\n",
       "       [1320],\n",
       "       [1330],\n",
       "       [1340],\n",
       "       [1350],\n",
       "       [1360],\n",
       "       [1370],\n",
       "       [1380],\n",
       "       [1390],\n",
       "       [1400],\n",
       "       [1410],\n",
       "       [1420],\n",
       "       [1430],\n",
       "       [1440],\n",
       "       [1450],\n",
       "       [1460],\n",
       "       [1470],\n",
       "       [1480],\n",
       "       [1490],\n",
       "       [1500],\n",
       "       [1510],\n",
       "       [1520],\n",
       "       [1530],\n",
       "       [1540],\n",
       "       [1550],\n",
       "       [1560],\n",
       "       [1570],\n",
       "       [1580],\n",
       "       [1590],\n",
       "       [1600],\n",
       "       [1610],\n",
       "       [1620],\n",
       "       [1630],\n",
       "       [1640],\n",
       "       [1650],\n",
       "       [1660],\n",
       "       [1670],\n",
       "       [1680],\n",
       "       [1690],\n",
       "       [1700],\n",
       "       [1710],\n",
       "       [1720],\n",
       "       [1730],\n",
       "       [1740],\n",
       "       [1750],\n",
       "       [1760],\n",
       "       [1770],\n",
       "       [1780],\n",
       "       [1790],\n",
       "       [1800],\n",
       "       [1810],\n",
       "       [1820],\n",
       "       [1830],\n",
       "       [1840],\n",
       "       [1850],\n",
       "       [1860],\n",
       "       [1870],\n",
       "       [1880],\n",
       "       [1890],\n",
       "       [1900],\n",
       "       [1910],\n",
       "       [1920],\n",
       "       [1930],\n",
       "       [1940],\n",
       "       [1950],\n",
       "       [1960],\n",
       "       [1970],\n",
       "       [1980],\n",
       "       [1990],\n",
       "       [2000]])"
      ]
     },
     "execution_count": 13,
     "metadata": {},
     "output_type": "execute_result"
    }
   ],
   "source": [
    "data[0]"
   ]
  },
  {
   "cell_type": "code",
   "execution_count": null,
   "metadata": {},
   "outputs": [],
   "source": []
  }
 ],
 "metadata": {
  "kernelspec": {
   "display_name": "Python 3",
   "language": "python",
   "name": "python3"
  },
  "language_info": {
   "codemirror_mode": {
    "name": "ipython",
    "version": 3
   },
   "file_extension": ".py",
   "mimetype": "text/x-python",
   "name": "python",
   "nbconvert_exporter": "python",
   "pygments_lexer": "ipython3",
   "version": "3.7.6"
  }
 },
 "nbformat": 4,
 "nbformat_minor": 4
}
